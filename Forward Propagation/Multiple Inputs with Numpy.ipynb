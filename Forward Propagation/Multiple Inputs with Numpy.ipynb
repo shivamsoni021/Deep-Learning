{
 "cells": [
  {
   "cell_type": "code",
   "execution_count": 3,
   "id": "53c5e9e1",
   "metadata": {},
   "outputs": [
    {
     "name": "stdout",
     "output_type": "stream",
     "text": [
      "0.9\n"
     ]
    }
   ],
   "source": [
    "# Forward Propagation\n",
    "# Neural network predicting a single output using multiple inputs using Numpy\n",
    "\n",
    "import numpy as np\n",
    "\n",
    "weights = np.array([0.1,0.2,0.1])\n",
    "\n",
    "def neural_network(input,weight):\n",
    "    pred = input.dot(weight)\n",
    "    return pred\n",
    "\n",
    "toes = np.array([6.5,4.8,2.1,7.5])\n",
    "wlrec = np.array([0.65,0.54,0.87,0.14])\n",
    "nfans = np.array([1.2,1.5,0.7,1.8])\n",
    "\n",
    "input = np.array([toes[0],wlrec[0],nfans[0]])\n",
    "pred = neural_network(input,weights)\n",
    "print(pred)"
   ]
  },
  {
   "cell_type": "code",
   "execution_count": null,
   "id": "42d57757",
   "metadata": {},
   "outputs": [],
   "source": []
  }
 ],
 "metadata": {
  "kernelspec": {
   "display_name": "Python 3 (ipykernel)",
   "language": "python",
   "name": "python3"
  },
  "language_info": {
   "codemirror_mode": {
    "name": "ipython",
    "version": 3
   },
   "file_extension": ".py",
   "mimetype": "text/x-python",
   "name": "python",
   "nbconvert_exporter": "python",
   "pygments_lexer": "ipython3",
   "version": "3.8.5"
  }
 },
 "nbformat": 4,
 "nbformat_minor": 5
}
