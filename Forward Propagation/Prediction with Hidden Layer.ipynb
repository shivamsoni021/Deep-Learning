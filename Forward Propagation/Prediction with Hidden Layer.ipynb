{
 "cells": [
  {
   "cell_type": "code",
   "execution_count": 3,
   "id": "98ce26ca",
   "metadata": {},
   "outputs": [
    {
     "name": "stdout",
     "output_type": "stream",
     "text": [
      "[-0.36, 0.0, 0.12]\n"
     ]
    }
   ],
   "source": [
    "#Forward Propagation\n",
    "#Neural Network predicting with Hidden layer\n",
    "\n",
    "ih_wgt = [[0.1, 0.2, -0.1], \n",
    "          [-0.1,0.1, 0.9], \n",
    "          [0.1, 0.4, 0.1]] \n",
    "\n",
    "hp_wgt = [[0.3, 1.1, -0.3], \n",
    "          [0.1, 0.2, 0.0], \n",
    "          [0.0, 1.3, 0.1]]\n",
    "\n",
    "toes = [8.5, 9.5, 9.9, 9.0]\n",
    "wlrec = [0.65,0.8, 0.8, 0.9]\n",
    "nfans = [1.2, 1.3, 0.5, 1.0]\n",
    "\n",
    "weights = [ih_wgt, hp_wgt]\n",
    "inputs = [toes[0],wlrec[0],nfans[0]]\n",
    "\n",
    "def vect_mat_mul(vector,matrix):\n",
    "    assert(len(vector) == len(matrix))\n",
    "    output=[0,0,0]\n",
    "    \n",
    "    for i in range(len(vector)):\n",
    "        output[i] = w_sum(vector,matrix[i])\n",
    "    \n",
    "    return output\n",
    "\n",
    "def w_sum(a,b):\n",
    "    assert(len(a) == len(b))\n",
    "    output = 0\n",
    "    \n",
    "    for i in range(len(a)):\n",
    "        output = a[i] * b[i]\n",
    "    \n",
    "    return output\n",
    "\n",
    "def neural_network(input,weights):\n",
    "    hid=vect_mat_mul(input,weights[0])\n",
    "    pred=vect_mat_mul(input,weights[1])\n",
    "    return pred\n",
    "\n",
    "pred = neural_network(inputs,weights)\n",
    "print(pred)"
   ]
  },
  {
   "cell_type": "code",
   "execution_count": null,
   "id": "96999b6b",
   "metadata": {},
   "outputs": [],
   "source": []
  }
 ],
 "metadata": {
  "kernelspec": {
   "display_name": "Python 3 (ipykernel)",
   "language": "python",
   "name": "python3"
  },
  "language_info": {
   "codemirror_mode": {
    "name": "ipython",
    "version": 3
   },
   "file_extension": ".py",
   "mimetype": "text/x-python",
   "name": "python",
   "nbconvert_exporter": "python",
   "pygments_lexer": "ipython3",
   "version": "3.8.5"
  }
 },
 "nbformat": 4,
 "nbformat_minor": 5
}
