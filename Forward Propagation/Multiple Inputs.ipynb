{
 "cells": [
  {
   "cell_type": "code",
   "execution_count": 15,
   "id": "4b9bbf24",
   "metadata": {},
   "outputs": [],
   "source": [
    "# Forward Propagation\n",
    "# Neural network predicting a single output using multiple inputs\n",
    "\n",
    "weights = [0.1,0.2,0.1]\n",
    "\n",
    "def neural_network(input,weights):\n",
    "    pred = w_sum(input,weights)\n",
    "    return pred\n",
    "\n",
    "def w_sum(a,b):\n",
    "#     assert(len(a) == len(b))\n",
    "    output=0\n",
    "    \n",
    "    for i in range(len(a)):\n",
    "        output += (a[i]*b[i])\n",
    "    return output"
   ]
  },
  {
   "cell_type": "code",
   "execution_count": 16,
   "id": "17df32a1",
   "metadata": {},
   "outputs": [
    {
     "name": "stdout",
     "output_type": "stream",
     "text": [
      "0.9\n"
     ]
    }
   ],
   "source": [
    "toes = [6.5,4.8,2.1,7.5]\n",
    "wlrec = [0.65,0.54,0.87,0.14]\n",
    "nfans = [1.2,1.5,0.7,1.8]\n",
    "\n",
    "single_input = [toes[0],wlrec[0],nfans[0]]\n",
    "\n",
    "pred = neural_network(single_input,weights)\n",
    "\n",
    "print(pred)"
   ]
  },
  {
   "cell_type": "code",
   "execution_count": null,
   "id": "f25325f7",
   "metadata": {},
   "outputs": [],
   "source": []
  }
 ],
 "metadata": {
  "kernelspec": {
   "display_name": "Python 3 (ipykernel)",
   "language": "python",
   "name": "python3"
  },
  "language_info": {
   "codemirror_mode": {
    "name": "ipython",
    "version": 3
   },
   "file_extension": ".py",
   "mimetype": "text/x-python",
   "name": "python",
   "nbconvert_exporter": "python",
   "pygments_lexer": "ipython3",
   "version": "3.8.5"
  }
 },
 "nbformat": 4,
 "nbformat_minor": 5
}
