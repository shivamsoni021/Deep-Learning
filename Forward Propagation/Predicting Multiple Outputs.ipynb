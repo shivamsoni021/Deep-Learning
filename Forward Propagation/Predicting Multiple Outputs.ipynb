{
 "cells": [
  {
   "cell_type": "code",
   "execution_count": 3,
   "id": "9e4058bb",
   "metadata": {},
   "outputs": [
    {
     "name": "stdout",
     "output_type": "stream",
     "text": [
      "[0.065, 0.0, 0.13]\n"
     ]
    }
   ],
   "source": [
    "#Forward Propagation\n",
    "#Neural Network predicting multiple outputs with a single input\n",
    "\n",
    "weights=[0.1,0,0.2]\n",
    "\n",
    "#Function for element wise Multiplication\n",
    "\n",
    "def ele_mul(number,vector):\n",
    "    output = [0,0,0]\n",
    "    \n",
    "    assert(len(output) == len(vector))\n",
    "    \n",
    "    for i in range (len(vector)):\n",
    "        output[i] = number * vector[i]\n",
    "        \n",
    "    return output\n",
    "\n",
    "def neural_networks(input,weights):\n",
    "    pred = ele_mul(input,weights)\n",
    "    return pred\n",
    "\n",
    "wlrec = [0.65,0.8,0.7]\n",
    "input = wlrec[0]\n",
    "\n",
    "pred = neural_networks(input,weights)\n",
    "print(pred)"
   ]
  },
  {
   "cell_type": "code",
   "execution_count": null,
   "id": "2e856450",
   "metadata": {},
   "outputs": [],
   "source": []
  },
  {
   "cell_type": "code",
   "execution_count": null,
   "id": "c5a801f3",
   "metadata": {},
   "outputs": [],
   "source": []
  }
 ],
 "metadata": {
  "kernelspec": {
   "display_name": "Python 3 (ipykernel)",
   "language": "python",
   "name": "python3"
  },
  "language_info": {
   "codemirror_mode": {
    "name": "ipython",
    "version": 3
   },
   "file_extension": ".py",
   "mimetype": "text/x-python",
   "name": "python",
   "nbconvert_exporter": "python",
   "pygments_lexer": "ipython3",
   "version": "3.8.5"
  }
 },
 "nbformat": 4,
 "nbformat_minor": 5
}
