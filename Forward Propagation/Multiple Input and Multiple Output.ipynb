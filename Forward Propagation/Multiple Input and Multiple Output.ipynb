{
 "cells": [
  {
   "cell_type": "code",
   "execution_count": 5,
   "id": "da838045",
   "metadata": {},
   "outputs": [
    {
     "name": "stdout",
     "output_type": "stream",
     "text": [
      "3\n",
      "3\n"
     ]
    },
    {
     "data": {
      "text/plain": [
       "[0.39000000000000035, 2.37, 19.630000000000003]"
      ]
     },
     "execution_count": 5,
     "metadata": {},
     "output_type": "execute_result"
    }
   ],
   "source": [
    "#Forward Propagation\n",
    "#Neural network predicting multiple Outputs on Multiple Inputs\n",
    "\n",
    "weights = [[0.1,0.2,-0.3],\n",
    "           [0.1,0.2,0.0],\n",
    "           [1.3,0.0,1.3]]\n",
    "print(len(weights))\n",
    "\n",
    "toes = [8.5,6.8,7.2]\n",
    "wlrec = [7.6,6.5,8.9]\n",
    "nfans = [6.6,7.9,5.4]\n",
    "\n",
    "input = [toes[0],wlrec[0],nfans[0]]\n",
    "print(len(input))\n",
    "\n",
    "def w_sum(a,b):\n",
    "    assert(len(a) == len(b))\n",
    "    output = 0\n",
    "    \n",
    "    for i in range(len(a)):\n",
    "        output += (a[i] * b[i])\n",
    "    return output\n",
    "\n",
    "def vector_mat_mul(vector,matrix):\n",
    "    assert(len(vector) == len(matrix))\n",
    "    output = [0,0,0]\n",
    "    \n",
    "    for i in range(len(vector)):\n",
    "        output[i] = w_sum(vector,matrix[i])\n",
    "    \n",
    "    return output\n",
    "\n",
    "def neural_network(input,weights):\n",
    "    pred = vector_mat_mul(input,weights)\n",
    "    return pred\n",
    "\n",
    "neural_network(input,weights)"
   ]
  },
  {
   "cell_type": "code",
   "execution_count": null,
   "id": "f5a38993",
   "metadata": {},
   "outputs": [],
   "source": []
  },
  {
   "cell_type": "code",
   "execution_count": null,
   "id": "15d95117",
   "metadata": {},
   "outputs": [],
   "source": []
  }
 ],
 "metadata": {
  "kernelspec": {
   "display_name": "Python 3 (ipykernel)",
   "language": "python",
   "name": "python3"
  },
  "language_info": {
   "codemirror_mode": {
    "name": "ipython",
    "version": 3
   },
   "file_extension": ".py",
   "mimetype": "text/x-python",
   "name": "python",
   "nbconvert_exporter": "python",
   "pygments_lexer": "ipython3",
   "version": "3.8.5"
  }
 },
 "nbformat": 4,
 "nbformat_minor": 5
}
